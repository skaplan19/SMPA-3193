{
 "cells": [
  {
   "cell_type": "code",
   "execution_count": 1,
   "metadata": {
    "collapsed": false,
    "deletable": true,
    "editable": true
   },
   "outputs": [
    {
     "name": "stderr",
     "output_type": "stream",
     "text": [
      "/System/Library/Frameworks/Python.framework/Versions/2.7/lib/python2.7/json/encoder.py:207: DeprecationWarning: Interpreting naive datetime as local 2017-03-06 21:55:17.804106. Please add timezone info to timestamps.\n"
     ]
    }
   ],
   "source": [
    "import agate "
   ]
  },
  {
   "cell_type": "code",
   "execution_count": 2,
   "metadata": {
    "collapsed": false,
    "deletable": true,
    "editable": true
   },
   "outputs": [
    {
     "name": "stderr",
     "output_type": "stream",
     "text": [
      "/System/Library/Frameworks/Python.framework/Versions/2.7/lib/python2.7/json/encoder.py:207: DeprecationWarning: Interpreting naive datetime as local 2017-03-06 21:55:20.877227. Please add timezone info to timestamps.\n"
     ]
    }
   ],
   "source": [
    "counties = agate.Table.from_csv(\"county_population.csv\")"
   ]
  },
  {
   "cell_type": "code",
   "execution_count": 3,
   "metadata": {
    "collapsed": false,
    "deletable": true,
    "editable": true
   },
   "outputs": [
    {
     "name": "stdout",
     "output_type": "stream",
     "text": [
      "| column        | data_type |\n",
      "| ------------- | --------- |\n",
      "| county        | Text      |\n",
      "| state         | Text      |\n",
      "| estimate_2010 | Number    |\n",
      "| estimate_2011 | Number    |\n",
      "| estimate_2012 | Number    |\n",
      "| estimate_2013 | Number    |\n",
      "| estimate_2014 | Number    |\n",
      "| estimate_2015 | Number    |\n",
      "\n"
     ]
    },
    {
     "name": "stderr",
     "output_type": "stream",
     "text": [
      "/System/Library/Frameworks/Python.framework/Versions/2.7/lib/python2.7/json/encoder.py:207: DeprecationWarning: Interpreting naive datetime as local 2017-03-06 21:55:24.228188. Please add timezone info to timestamps.\n"
     ]
    }
   ],
   "source": [
    "print counties"
   ]
  },
  {
   "cell_type": "code",
   "execution_count": 4,
   "metadata": {
    "collapsed": false,
    "deletable": true,
    "editable": true
   },
   "outputs": [
    {
     "name": "stderr",
     "output_type": "stream",
     "text": [
      "/System/Library/Frameworks/Python.framework/Versions/2.7/lib/python2.7/json/encoder.py:207: DeprecationWarning: Interpreting naive datetime as local 2017-03-06 21:55:28.714717. Please add timezone info to timestamps.\n"
     ]
    }
   ],
   "source": [
    "popchange1016 = counties.compute([('change', agate. PercentChange('estimate_2010', 'estimate_2015'))])"
   ]
  },
  {
   "cell_type": "code",
   "execution_count": 5,
   "metadata": {
    "collapsed": false,
    "deletable": true,
    "editable": true
   },
   "outputs": [
    {
     "name": "stdout",
     "output_type": "stream",
     "text": [
      "1.256860592755214050493962678\n"
     ]
    },
    {
     "name": "stderr",
     "output_type": "stream",
     "text": [
      "/System/Library/Frameworks/Python.framework/Versions/2.7/lib/python2.7/json/encoder.py:207: DeprecationWarning: Interpreting naive datetime as local 2017-03-06 21:55:32.088365. Please add timezone info to timestamps.\n"
     ]
    }
   ],
   "source": [
    "print popchange1016[0]['change']"
   ]
  },
  {
   "cell_type": "code",
   "execution_count": 6,
   "metadata": {
    "collapsed": false,
    "deletable": true,
    "editable": true
   },
   "outputs": [
    {
     "name": "stderr",
     "output_type": "stream",
     "text": [
      "/System/Library/Frameworks/Python.framework/Versions/2.7/lib/python2.7/json/encoder.py:207: DeprecationWarning: Interpreting naive datetime as local 2017-03-06 21:55:35.164308. Please add timezone info to timestamps.\n"
     ]
    }
   ],
   "source": [
    "from decimal import Decimal"
   ]
  },
  {
   "cell_type": "code",
   "execution_count": 11,
   "metadata": {
    "collapsed": false,
    "deletable": true,
    "editable": true
   },
   "outputs": [
    {
     "ename": "SyntaxError",
     "evalue": "invalid syntax (<ipython-input-11-69647a931168>, line 1)",
     "output_type": "error",
     "traceback": [
      "\u001b[0;36m  File \u001b[0;32m\"<ipython-input-11-69647a931168>\"\u001b[0;36m, line \u001b[0;32m1\u001b[0m\n\u001b[0;31m    def round_change(row:)\u001b[0m\n\u001b[0m                        ^\u001b[0m\n\u001b[0;31mSyntaxError\u001b[0m\u001b[0;31m:\u001b[0m invalid syntax\n"
     ]
    },
    {
     "name": "stderr",
     "output_type": "stream",
     "text": [
      "/System/Library/Frameworks/Python.framework/Versions/2.7/lib/python2.7/json/encoder.py:207: DeprecationWarning: Interpreting naive datetime as local 2017-03-01 09:50:33.811971. Please add timezone info to timestamps.\n"
     ]
    }
   ],
   "source": [
    "def round_change(row:)\n",
    "    return row['change'].quantize(Decimal('0.1))"
   ]
  },
  {
   "cell_type": "code",
   "execution_count": 7,
   "metadata": {
    "collapsed": false,
    "deletable": true,
    "editable": true
   },
   "outputs": [
    {
     "name": "stderr",
     "output_type": "stream",
     "text": [
      "/System/Library/Frameworks/Python.framework/Versions/2.7/lib/python2.7/json/encoder.py:207: DeprecationWarning: Interpreting naive datetime as local 2017-03-06 21:55:39.642464. Please add timezone info to timestamps.\n"
     ]
    }
   ],
   "source": [
    "def round_change(row):\n",
    "    return row['change'].quantize(Decimal('0.1'))"
   ]
  },
  {
   "cell_type": "code",
   "execution_count": 8,
   "metadata": {
    "collapsed": false,
    "deletable": true,
    "editable": true
   },
   "outputs": [
    {
     "name": "stderr",
     "output_type": "stream",
     "text": [
      "/System/Library/Frameworks/Python.framework/Versions/2.7/lib/python2.7/json/encoder.py:207: DeprecationWarning: Interpreting naive datetime as local 2017-03-06 21:55:43.149898. Please add timezone info to timestamps.\n"
     ]
    }
   ],
   "source": [
    "rounded_change = popchange1016.compute([('change_rounded', agate.Formula(agate.Number(), round_change))])"
   ]
  },
  {
   "cell_type": "code",
   "execution_count": 9,
   "metadata": {
    "collapsed": false,
    "deletable": true,
    "editable": true
   },
   "outputs": [
    {
     "name": "stdout",
     "output_type": "stream",
     "text": [
      "1.3\n"
     ]
    },
    {
     "name": "stderr",
     "output_type": "stream",
     "text": [
      "/System/Library/Frameworks/Python.framework/Versions/2.7/lib/python2.7/json/encoder.py:207: DeprecationWarning: Interpreting naive datetime as local 2017-03-06 21:55:46.247767. Please add timezone info to timestamps.\n"
     ]
    }
   ],
   "source": [
    "print rounded_change[0]['change_rounded']"
   ]
  },
  {
   "cell_type": "code",
   "execution_count": 10,
   "metadata": {
    "collapsed": false,
    "deletable": true,
    "editable": true
   },
   "outputs": [
    {
     "name": "stderr",
     "output_type": "stream",
     "text": [
      "/System/Library/Frameworks/Python.framework/Versions/2.7/lib/python2.7/json/encoder.py:207: DeprecationWarning: Interpreting naive datetime as local 2017-03-06 21:55:48.699303. Please add timezone info to timestamps.\n"
     ]
    }
   ],
   "source": [
    "sorted_counties = rounded_change.order_by('change', reverse=True)"
   ]
  },
  {
   "cell_type": "code",
   "execution_count": 11,
   "metadata": {
    "collapsed": false,
    "deletable": true,
    "editable": true
   },
   "outputs": [
    {
     "name": "stdout",
     "output_type": "stream",
     "text": [
      "| county              | state          | change_rounded |\n",
      "| ------------------- | -------------- | -------------- |\n",
      "| McKenzie County     | North Dakota   |          100.4 |\n",
      "| Williams County     | North Dakota   |           56.3 |\n",
      "| Loving County       | Texas          |           34.9 |\n",
      "| Mountrail County    | North Dakota   |           33.8 |\n",
      "| Stark County        | North Dakota   |           32.0 |\n",
      "| Dunn County         | North Dakota   |           31.2 |\n",
      "| Sumter County       | Florida        |           26.1 |\n",
      "| Wasatch County      | Utah           |           23.4 |\n",
      "| St. Bernard Parish  | Louisiana      |           23.4 |\n",
      "| Hays County         | Texas          |           23.0 |\n",
      "| Richland County     | Montana        |           22.7 |\n",
      "| Andrews County      | Texas          |           22.0 |\n",
      "| Billings County     | North Dakota   |           21.4 |\n",
      "| Fort Bend County    | Texas          |           21.3 |\n",
      "| Long County         | Georgia        |           20.7 |\n",
      "| Forsyth County      | Georgia        |           20.2 |\n",
      "| Dallas County       | Iowa           |           20.1 |\n",
      "| Osceola County      | Florida        |           20.1 |\n",
      "| Kendall County      | Texas          |           20.0 |\n",
      "| Williamson County   | Texas          |           19.2 |\n",
      "| Loudoun County      | Virginia       |           19.0 |\n",
      "| Sterling County     | Texas          |           18.8 |\n",
      "| St. Johns County    | Florida        |           18.5 |\n",
      "| Comal County        | Texas          |           18.1 |\n",
      "| Divide County       | North Dakota   |           17.9 |\n",
      "| Burke County        | North Dakota   |           17.8 |\n",
      "| Midland County      | Texas          |           17.6 |\n",
      "| Martin County       | Texas          |           17.1 |\n",
      "| Denton County       | Texas          |           17.0 |\n",
      "| Montgomery County   | Texas          |           17.0 |\n",
      "| Lincoln County      | South Dakota   |           17.0 |\n",
      "| Uintah County       | Utah           |           16.9 |\n",
      "| Ector County        | Texas          |           16.3 |\n",
      "| Fredericksburg city | Virginia       |           16.2 |\n",
      "| Morgan County       | Utah           |           16.1 |\n",
      "| Collin County       | Texas          |           15.9 |\n",
      "| Broomfield County   | Colorado       |           15.6 |\n",
      "| Bryan County        | Georgia        |           15.6 |\n",
      "| Columbia County     | Georgia        |           15.3 |\n",
      "| Crane County        | Texas          |           15.3 |\n",
      "| McMullen County     | Texas          |           15.2 |\n",
      "| Rockwall County     | Texas          |           15.1 |\n",
      "| Williamson County   | Tennessee      |           15.0 |\n",
      "| Walton County       | Florida        |           15.0 |\n",
      "| Ward County         | North Dakota   |           14.8 |\n",
      "| Canadian County     | Oklahoma       |           14.6 |\n",
      "| Horry County        | South Carolina |           14.3 |\n",
      "| Greenlee County     | Arizona        |           14.3 |\n",
      "| Travis County       | Texas          |           14.2 |\n",
      "| Cass County         | North Dakota   |           14.1 |\n",
      "| ...                 | ...            |            ... |\n"
     ]
    },
    {
     "name": "stderr",
     "output_type": "stream",
     "text": [
      "/System/Library/Frameworks/Python.framework/Versions/2.7/lib/python2.7/json/encoder.py:207: DeprecationWarning: Interpreting naive datetime as local 2017-03-06 21:55:51.949542. Please add timezone info to timestamps.\n"
     ]
    }
   ],
   "source": [
    "sorted_counties.select(['county', 'state', 'change_rounded']).print_table(max_rows=50)"
   ]
  },
  {
   "cell_type": "code",
   "execution_count": 12,
   "metadata": {
    "collapsed": false,
    "deletable": true,
    "editable": true
   },
   "outputs": [
    {
     "name": "stderr",
     "output_type": "stream",
     "text": [
      "/System/Library/Frameworks/Python.framework/Versions/2.7/lib/python2.7/json/encoder.py:207: DeprecationWarning: Interpreting naive datetime as local 2017-03-06 21:55:56.017655. Please add timezone info to timestamps.\n"
     ]
    }
   ],
   "source": [
    "county = counties.where(lambda r:r['county'] == 'North Dakota')"
   ]
  },
  {
   "cell_type": "code",
   "execution_count": 13,
   "metadata": {
    "collapsed": false,
    "deletable": true,
    "editable": true
   },
   "outputs": [
    {
     "name": "stderr",
     "output_type": "stream",
     "text": [
      "/System/Library/Frameworks/Python.framework/Versions/2.7/lib/python2.7/json/encoder.py:207: DeprecationWarning: Interpreting naive datetime as local 2017-03-06 21:55:58.366728. Please add timezone info to timestamps.\n"
     ]
    }
   ],
   "source": [
    "import re"
   ]
  },
  {
   "cell_type": "code",
   "execution_count": 14,
   "metadata": {
    "collapsed": false,
    "deletable": true,
    "editable": true
   },
   "outputs": [
    {
     "ename": "NameError",
     "evalue": "name 'results' is not defined",
     "output_type": "error",
     "traceback": [
      "\u001b[0;31m---------------------------------------------------------------------------\u001b[0m",
      "\u001b[0;31mNameError\u001b[0m                                 Traceback (most recent call last)",
      "\u001b[0;32m<ipython-input-14-7d34403c170c>\u001b[0m in \u001b[0;36m<module>\u001b[0;34m()\u001b[0m\n\u001b[0;32m----> 1\u001b[0;31m \u001b[0mcounty\u001b[0m \u001b[0;34m=\u001b[0m \u001b[0mresults\u001b[0m\u001b[0;34m\u001b[0m\u001b[0m\n\u001b[0m",
      "\u001b[0;31mNameError\u001b[0m: name 'results' is not defined"
     ]
    },
    {
     "name": "stderr",
     "output_type": "stream",
     "text": [
      "/System/Library/Frameworks/Python.framework/Versions/2.7/lib/python2.7/json/encoder.py:207: DeprecationWarning: Interpreting naive datetime as local 2017-03-06 21:56:01.065206. Please add timezone info to timestamps.\n"
     ]
    }
   ],
   "source": [
    "county = results "
   ]
  },
  {
   "cell_type": "code",
   "execution_count": 22,
   "metadata": {
    "collapsed": false
   },
   "outputs": [
    {
     "name": "stdout",
     "output_type": "stream",
     "text": [
      "| county               | state          | estimate_2010 | estimate_2011 | estimate_2012 | estimate_2013 | ... |\n",
      "| -------------------- | -------------- | ------------- | ------------- | ------------- | ------------- | --- |\n",
      "| Ziebach County       | South Dakota   |         2,825 |         2,838 |         2,872 |         2,831 | ... |\n",
      "| Zavala County        | Texas          |        11,711 |        11,822 |        11,943 |        12,128 | ... |\n",
      "| Zapata County        | Texas          |        14,075 |        14,210 |        14,250 |        14,373 | ... |\n",
      "| Yuma County          | Arizona        |       197,069 |       202,628 |       202,375 |       202,173 | ... |\n",
      "| Yuma County          | Colorado       |        10,025 |        10,163 |        10,130 |        10,230 | ... |\n",
      "| Yukon-Koyukuk Cen... | Alaska         |         5,588 |         5,731 |         5,731 |         5,661 | ... |\n",
      "| Yuba County          | California     |        72,357 |        72,570 |        72,946 |        73,292 | ... |\n",
      "| Young County         | Texas          |        18,543 |        18,356 |        18,299 |        18,378 | ... |\n",
      "| York County          | Maine          |       197,197 |       198,227 |       199,032 |       199,375 | ... |\n",
      "| York County          | Nebraska       |        13,654 |        13,753 |        13,819 |        13,836 | ... |\n",
      "| York County          | Pennsylvania   |       435,539 |       436,902 |       437,833 |       439,521 | ... |\n",
      "| York County          | South Carolina |       226,917 |       230,190 |       234,558 |       239,313 | ... |\n",
      "| York County          | Virginia       |        65,209 |        65,884 |        65,890 |        66,126 | ... |\n",
      "| Yolo County          | California     |       201,129 |       202,283 |       205,093 |       206,958 | ... |\n",
      "| Yoakum County        | Texas          |         7,845 |         7,986 |         8,038 |         8,168 | ... |\n",
      "| Yellowstone County   | Montana        |       148,406 |       149,865 |       151,917 |       154,040 | ... |\n",
      "| Yellow Medicine C... | Minnesota      |        10,425 |        10,277 |        10,158 |        10,115 | ... |\n",
      "| Yell County          | Arkansas       |        22,155 |        21,939 |        21,809 |        21,797 | ... |\n",
      "| Yazoo County         | Mississippi    |        28,083 |        28,218 |        28,265 |        27,926 | ... |\n",
      "| Yavapai County       | Arizona        |       211,122 |       211,135 |       212,468 |       215,271 | ... |\n",
      "| ...                  | ...            |           ... |           ... |           ... |           ... | ... |\n",
      "None\n"
     ]
    },
    {
     "name": "stderr",
     "output_type": "stream",
     "text": [
      "/System/Library/Frameworks/Python.framework/Versions/2.7/lib/python2.7/json/encoder.py:207: DeprecationWarning: Interpreting naive datetime as local 2017-03-06 22:33:12.733818. Please add timezone info to timestamps.\n"
     ]
    }
   ],
   "source": [
    "print counties.order_by('county', reverse=True). print_table()"
   ]
  },
  {
   "cell_type": "code",
   "execution_count": 27,
   "metadata": {
    "collapsed": false
   },
   "outputs": [
    {
     "ename": "NameError",
     "evalue": "name 'results' is not defined",
     "output_type": "error",
     "traceback": [
      "\u001b[0;31m---------------------------------------------------------------------------\u001b[0m",
      "\u001b[0;31mNameError\u001b[0m                                 Traceback (most recent call last)",
      "\u001b[0;32m<ipython-input-27-28db42712b73>\u001b[0m in \u001b[0;36m<module>\u001b[0;34m()\u001b[0m\n\u001b[0;32m----> 1\u001b[0;31m \u001b[0mpopulation\u001b[0m \u001b[0;34m=\u001b[0m \u001b[0mresults\u001b[0m\u001b[0;34m\u001b[0m\u001b[0m\n\u001b[0m",
      "\u001b[0;31mNameError\u001b[0m: name 'results' is not defined"
     ]
    },
    {
     "name": "stderr",
     "output_type": "stream",
     "text": [
      "/System/Library/Frameworks/Python.framework/Versions/2.7/lib/python2.7/json/encoder.py:207: DeprecationWarning: Interpreting naive datetime as local 2017-03-06 23:17:46.218881. Please add timezone info to timestamps.\n"
     ]
    }
   ],
   "source": [
    "population = results"
   ]
  },
  {
   "cell_type": "code",
   "execution_count": 26,
   "metadata": {
    "collapsed": false
   },
   "outputs": [
    {
     "ename": "NameError",
     "evalue": "name 'population' is not defined",
     "output_type": "error",
     "traceback": [
      "\u001b[0;31m---------------------------------------------------------------------------\u001b[0m",
      "\u001b[0;31mNameError\u001b[0m                                 Traceback (most recent call last)",
      "\u001b[0;32m<ipython-input-26-1b1a08cb18bb>\u001b[0m in \u001b[0;36m<module>\u001b[0;34m()\u001b[0m\n\u001b[0;32m----> 1\u001b[0;31m \u001b[0;32mprint\u001b[0m \u001b[0mpopulation\u001b[0m\u001b[0;34m.\u001b[0m\u001b[0morder_by\u001b[0m\u001b[0;34m(\u001b[0m\u001b[0;34m'population'\u001b[0m\u001b[0;34m,\u001b[0m \u001b[0mreverse\u001b[0m\u001b[0;34m=\u001b[0m\u001b[0mTrue\u001b[0m\u001b[0;34m)\u001b[0m \u001b[0;34m.\u001b[0m\u001b[0mprint_table\u001b[0m\u001b[0;34m(\u001b[0m\u001b[0;34m)\u001b[0m\u001b[0;34m\u001b[0m\u001b[0m\n\u001b[0m",
      "\u001b[0;31mNameError\u001b[0m: name 'population' is not defined"
     ]
    },
    {
     "name": "stderr",
     "output_type": "stream",
     "text": [
      "/System/Library/Frameworks/Python.framework/Versions/2.7/lib/python2.7/json/encoder.py:207: DeprecationWarning: Interpreting naive datetime as local 2017-03-06 23:17:19.420964. Please add timezone info to timestamps.\n"
     ]
    }
   ],
   "source": [
    "print population.order_by('population', reverse=True) .print_table()"
   ]
  },
  {
   "cell_type": "code",
   "execution_count": 28,
   "metadata": {
    "collapsed": false
   },
   "outputs": [
    {
     "name": "stderr",
     "output_type": "stream",
     "text": [
      "/System/Library/Frameworks/Python.framework/Versions/2.7/lib/python2.7/json/encoder.py:207: DeprecationWarning: Interpreting naive datetime as local 2017-03-06 23:18:34.697573. Please add timezone info to timestamps.\n"
     ]
    }
   ],
   "source": [
    "popchange1016 = counties.compute([('change', agate. PercentChange('estimate_2010', 'estimate_2015'))])"
   ]
  },
  {
   "cell_type": "code",
   "execution_count": 31,
   "metadata": {
    "collapsed": false
   },
   "outputs": [
    {
     "ename": "KeyError",
     "evalue": "",
     "output_type": "error",
     "traceback": [
      "\u001b[0;31m---------------------------------------------------------------------------\u001b[0m",
      "\u001b[0;31mKeyError\u001b[0m                                  Traceback (most recent call last)",
      "\u001b[0;32m<ipython-input-31-6c14e2b14653>\u001b[0m in \u001b[0;36m<module>\u001b[0;34m()\u001b[0m\n\u001b[0;32m----> 1\u001b[0;31m \u001b[0;32mprint\u001b[0m \u001b[0mpopchange1016\u001b[0m \u001b[0;34m[\u001b[0m\u001b[0;34m'change'\u001b[0m\u001b[0;34m]\u001b[0m\u001b[0;34m\u001b[0m\u001b[0m\n\u001b[0m",
      "\u001b[0;32m/Users/sarinakaplan/.virtualenvs/exercises/lib/python2.7/site-packages/agate/table/__init__.pyc\u001b[0m in \u001b[0;36m__getitem__\u001b[0;34m(self, key)\u001b[0m\n\u001b[1;32m    225\u001b[0m         \u001b[0mShorthand\u001b[0m \u001b[0;32mfor\u001b[0m \u001b[0;34m:\u001b[0m\u001b[0mcode\u001b[0m\u001b[0;34m:\u001b[0m\u001b[0;34m`\u001b[0m\u001b[0mtable\u001b[0m\u001b[0;34m.\u001b[0m\u001b[0mrows\u001b[0m\u001b[0;34m[\u001b[0m\u001b[0mfoo\u001b[0m\u001b[0;34m]\u001b[0m\u001b[0;34m`\u001b[0m\u001b[0;34m.\u001b[0m\u001b[0;34m\u001b[0m\u001b[0m\n\u001b[1;32m    226\u001b[0m         \"\"\"\n\u001b[0;32m--> 227\u001b[0;31m         \u001b[0;32mreturn\u001b[0m \u001b[0mself\u001b[0m\u001b[0;34m.\u001b[0m\u001b[0m_rows\u001b[0m\u001b[0;34m.\u001b[0m\u001b[0m__getitem__\u001b[0m\u001b[0;34m(\u001b[0m\u001b[0mkey\u001b[0m\u001b[0;34m)\u001b[0m\u001b[0;34m\u001b[0m\u001b[0m\n\u001b[0m\u001b[1;32m    228\u001b[0m \u001b[0;34m\u001b[0m\u001b[0m\n\u001b[1;32m    229\u001b[0m     \u001b[0;34m@\u001b[0m\u001b[0mproperty\u001b[0m\u001b[0;34m\u001b[0m\u001b[0m\n",
      "\u001b[0;32m/Users/sarinakaplan/.virtualenvs/exercises/lib/python2.7/site-packages/agate/mapped_sequence.pyc\u001b[0m in \u001b[0;36m__getitem__\u001b[0;34m(self, key)\u001b[0m\n\u001b[1;32m     92\u001b[0m             \u001b[0;32mreturn\u001b[0m \u001b[0mself\u001b[0m\u001b[0;34m.\u001b[0m\u001b[0mvalues\u001b[0m\u001b[0;34m(\u001b[0m\u001b[0;34m)\u001b[0m\u001b[0;34m[\u001b[0m\u001b[0mkey\u001b[0m\u001b[0;34m]\u001b[0m\u001b[0;34m\u001b[0m\u001b[0m\n\u001b[1;32m     93\u001b[0m         \u001b[0;32melse\u001b[0m\u001b[0;34m:\u001b[0m\u001b[0;34m\u001b[0m\u001b[0m\n\u001b[0;32m---> 94\u001b[0;31m             \u001b[0;32mreturn\u001b[0m \u001b[0mself\u001b[0m\u001b[0;34m.\u001b[0m\u001b[0mdict\u001b[0m\u001b[0;34m(\u001b[0m\u001b[0;34m)\u001b[0m\u001b[0;34m[\u001b[0m\u001b[0mkey\u001b[0m\u001b[0;34m]\u001b[0m\u001b[0;34m\u001b[0m\u001b[0m\n\u001b[0m\u001b[1;32m     95\u001b[0m \u001b[0;34m\u001b[0m\u001b[0m\n\u001b[1;32m     96\u001b[0m     \u001b[0;32mdef\u001b[0m \u001b[0m__setitem__\u001b[0m\u001b[0;34m(\u001b[0m\u001b[0mself\u001b[0m\u001b[0;34m,\u001b[0m \u001b[0mkey\u001b[0m\u001b[0;34m,\u001b[0m \u001b[0mvalue\u001b[0m\u001b[0;34m)\u001b[0m\u001b[0;34m:\u001b[0m\u001b[0;34m\u001b[0m\u001b[0m\n",
      "\u001b[0;32m/Users/sarinakaplan/.virtualenvs/exercises/lib/python2.7/site-packages/agate/utils.pyc\u001b[0m in \u001b[0;36mwrapper\u001b[0;34m(self)\u001b[0m\n\u001b[1;32m     38\u001b[0m             \u001b[0;32mreturn\u001b[0m \u001b[0mmemo\u001b[0m\u001b[0;34m\u001b[0m\u001b[0m\n\u001b[1;32m     39\u001b[0m \u001b[0;34m\u001b[0m\u001b[0m\n\u001b[0;32m---> 40\u001b[0;31m         \u001b[0;32mreturn\u001b[0m \u001b[0mfunc\u001b[0m\u001b[0;34m(\u001b[0m\u001b[0mself\u001b[0m\u001b[0;34m)\u001b[0m\u001b[0;34m\u001b[0m\u001b[0m\n\u001b[0m\u001b[1;32m     41\u001b[0m \u001b[0;34m\u001b[0m\u001b[0m\n\u001b[1;32m     42\u001b[0m     \u001b[0;32mreturn\u001b[0m \u001b[0mwrapper\u001b[0m\u001b[0;34m\u001b[0m\u001b[0m\n",
      "\u001b[0;32m/Users/sarinakaplan/.virtualenvs/exercises/lib/python2.7/site-packages/agate/mapped_sequence.pyc\u001b[0m in \u001b[0;36mdict\u001b[0;34m(self)\u001b[0m\n\u001b[1;32m    166\u001b[0m         \"\"\"\n\u001b[1;32m    167\u001b[0m         \u001b[0;32mif\u001b[0m \u001b[0mself\u001b[0m\u001b[0;34m.\u001b[0m\u001b[0mkeys\u001b[0m\u001b[0;34m(\u001b[0m\u001b[0;34m)\u001b[0m \u001b[0;32mis\u001b[0m \u001b[0mNone\u001b[0m\u001b[0;34m:\u001b[0m\u001b[0;34m\u001b[0m\u001b[0m\n\u001b[0;32m--> 168\u001b[0;31m             \u001b[0;32mraise\u001b[0m \u001b[0mKeyError\u001b[0m\u001b[0;34m\u001b[0m\u001b[0m\n\u001b[0m\u001b[1;32m    169\u001b[0m \u001b[0;34m\u001b[0m\u001b[0m\n\u001b[1;32m    170\u001b[0m         \u001b[0;32mreturn\u001b[0m \u001b[0mOrderedDict\u001b[0m\u001b[0;34m(\u001b[0m\u001b[0mself\u001b[0m\u001b[0;34m.\u001b[0m\u001b[0mitems\u001b[0m\u001b[0;34m(\u001b[0m\u001b[0;34m)\u001b[0m\u001b[0;34m)\u001b[0m\u001b[0;34m\u001b[0m\u001b[0m\n",
      "\u001b[0;31mKeyError\u001b[0m: "
     ]
    },
    {
     "name": "stderr",
     "output_type": "stream",
     "text": [
      "/System/Library/Frameworks/Python.framework/Versions/2.7/lib/python2.7/json/encoder.py:207: DeprecationWarning: Interpreting naive datetime as local 2017-03-06 23:19:29.746388. Please add timezone info to timestamps.\n"
     ]
    }
   ],
   "source": [
    "print popchange1016 ['change']"
   ]
  },
  {
   "cell_type": "code",
   "execution_count": null,
   "metadata": {
    "collapsed": true
   },
   "outputs": [],
   "source": []
  },
  {
   "cell_type": "code",
   "execution_count": 35,
   "metadata": {
    "collapsed": false
   },
   "outputs": [
    {
     "ename": "NameError",
     "evalue": "name 'states' is not defined",
     "output_type": "error",
     "traceback": [
      "\u001b[0;31m---------------------------------------------------------------------------\u001b[0m",
      "\u001b[0;31mNameError\u001b[0m                                 Traceback (most recent call last)",
      "\u001b[0;32m<ipython-input-35-70bd215df2af>\u001b[0m in \u001b[0;36m<module>\u001b[0;34m()\u001b[0m\n\u001b[0;32m----> 1\u001b[0;31m \u001b[0mBy_states\u001b[0m \u001b[0;34m=\u001b[0m \u001b[0mstates\u001b[0m\u001b[0;34m.\u001b[0m\u001b[0mgroup_by\u001b[0m\u001b[0;34m(\u001b[0m\u001b[0;34m'Average Change'\u001b[0m\u001b[0;34m)\u001b[0m\u001b[0;34m\u001b[0m\u001b[0m\n\u001b[0m",
      "\u001b[0;31mNameError\u001b[0m: name 'states' is not defined"
     ]
    },
    {
     "name": "stderr",
     "output_type": "stream",
     "text": [
      "/System/Library/Frameworks/Python.framework/Versions/2.7/lib/python2.7/json/encoder.py:207: DeprecationWarning: Interpreting naive datetime as local 2017-03-06 23:57:36.303034. Please add timezone info to timestamps.\n"
     ]
    }
   ],
   "source": [
    "By_states = states.group_by('Average Change')\n"
   ]
  }
 ],
 "metadata": {
  "kernelspec": {
   "display_name": "Python 2",
   "language": "python",
   "name": "python2"
  },
  "language_info": {
   "codemirror_mode": {
    "name": "ipython",
    "version": 2
   },
   "file_extension": ".py",
   "mimetype": "text/x-python",
   "name": "python",
   "nbconvert_exporter": "python",
   "pygments_lexer": "ipython2",
   "version": "2.7.10"
  }
 },
 "nbformat": 4,
 "nbformat_minor": 2
}
